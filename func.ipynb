{
 "cells": [
  {
   "cell_type": "markdown",
   "metadata": {},
   "source": [
    "לכתוב פונקציה שמקבלת מספר ומחזירה את העצרת שלו"
   ]
  },
  {
   "cell_type": "code",
   "execution_count": 1,
   "metadata": {},
   "outputs": [
    {
     "name": "stdout",
     "output_type": "stream",
     "text": [
      "The calculation of the factorial number is: 120\n"
     ]
    }
   ],
   "source": [
    "import math\n",
    "def factorial_calc():\n",
    "        print(\"The calculation of the factorial number is:\",math.factorial(5))           \n",
    "        #Factorial num of 5 = 5 x 4 x 3 x 2 x 1 = 720\n",
    "       \n",
    "factorial_calc()"
   ]
  },
  {
   "cell_type": "code",
   "execution_count": 8,
   "metadata": {},
   "outputs": [
    {
     "name": "stdout",
     "output_type": "stream",
     "text": [
      "the index is: 1\n",
      "the index is: 2\n",
      "the index is: 3\n",
      "the index is: 4\n",
      "the index is: 5\n",
      "The factorial of 5 is 120\n"
     ]
    }
   ],
   "source": [
    "def factorial_calc():\n",
    "    num = 5\n",
    "    factorial_num = 1\n",
    "    if num < 0:\n",
    "        print(\"Sorry, factorial does not exist for negative numbers\")\n",
    "    elif num == 0:\n",
    "        print(\"The factorial of 0 is 1\")\n",
    "    else:\n",
    "        for i in range(1,num+1):\n",
    "            factorial_num = factorial_num * i\n",
    "            # i\n",
    "            # הופך להיות 1 כי רצים מ-1 עד 6\n",
    "            # הסיבה שרצים עד 6 כי האורך הוא 5 \n",
    "            # ואנחנו צריכים לכפול 5 מספרים\n",
    "            # הדפסות של בדיקות\n",
    "            print(\"the index is:\",i)\n",
    "            \n",
    "        print(\"The factorial of\",num, \"is\", factorial_num)\n",
    "\n",
    "\n",
    "factorial_calc()   "
   ]
  },
  {
   "cell_type": "markdown",
   "metadata": {},
   "source": [
    "לכתוב פונקציה שמקבלת מספר בלתי ידוע של מספרים, ומחזירה את הגדול מבינהם"
   ]
  },
  {
   "cell_type": "code",
   "execution_count": 9,
   "metadata": {},
   "outputs": [
    {
     "data": {
      "text/plain": [
       "6"
      ]
     },
     "execution_count": 9,
     "metadata": {},
     "output_type": "execute_result"
    }
   ],
   "source": [
    "import math\n",
    "def max_num(*nums):\n",
    "    return max(nums)\n",
    "   \n",
    "\n",
    "max_num(2,4,6)"
   ]
  },
  {
   "cell_type": "code",
   "execution_count": 10,
   "metadata": {},
   "outputs": [
    {
     "name": "stdout",
     "output_type": "stream",
     "text": [
      "The i is: 2\n",
      "The max is: 2\n",
      "The i is: 6\n",
      "The max is: 6\n"
     ]
    },
    {
     "data": {
      "text/plain": [
       "6"
      ]
     },
     "execution_count": 10,
     "metadata": {},
     "output_type": "execute_result"
    }
   ],
   "source": [
    "def max_num(*nums):\n",
    "    max = 0\n",
    "    for i in nums:\n",
    "        if i > max:\n",
    "            max = i\n",
    "            # הדפסות של בדיקות\n",
    "            print(\"The i is:\", i)\n",
    "            print(\"The max is:\", i)\n",
    "    return max\n",
    "\n",
    "max_num(2,1,6)"
   ]
  },
  {
   "cell_type": "markdown",
   "metadata": {},
   "source": [
    "לכתוב פונקציה שמקבלת מספר ועוד מספר בלתי ידוע של מספרים וסופרת כמה פעמים המספר מופיע"
   ]
  },
  {
   "cell_type": "code",
   "execution_count": 16,
   "metadata": {},
   "outputs": [
    {
     "data": {
      "text/plain": [
       "3"
      ]
     },
     "execution_count": 16,
     "metadata": {},
     "output_type": "execute_result"
    }
   ],
   "source": [
    "import math\n",
    "def number_appear(num,*nums):\n",
    "    return nums.count(num)\n",
    "\n",
    "# המספר הראשון נחשב כפרמטר \n",
    "# num\n",
    "number_appear(1,2,3,1,4,7,1,1)"
   ]
  },
  {
   "cell_type": "code",
   "execution_count": 18,
   "metadata": {},
   "outputs": [
    {
     "name": "stdout",
     "output_type": "stream",
     "text": [
      "the i is: 2\n",
      "the i is: 3\n",
      "the i is: 1\n",
      "the nums is: (2, 3, 1, 4, 7, 1, 1)\n",
      "the i is: 4\n",
      "the i is: 7\n",
      "the i is: 1\n",
      "the nums is: (2, 3, 1, 4, 7, 1, 1)\n",
      "the i is: 1\n",
      "the nums is: (2, 3, 1, 4, 7, 1, 1)\n"
     ]
    },
    {
     "data": {
      "text/plain": [
       "3"
      ]
     },
     "execution_count": 18,
     "metadata": {},
     "output_type": "execute_result"
    }
   ],
   "source": [
    "def number_appear(num,*nums):\n",
    "    count = 0\n",
    "    for i in nums:\n",
    "        # בדיקה\n",
    "        print(\"the i is:\",i)\n",
    "        if (i == num):\n",
    "            count += 1\n",
    "            # בדיקה\n",
    "            print(\"the nums is:\",nums)\n",
    "        else:\n",
    "            continue\n",
    "    return count\n",
    "\n",
    "# המספר הראשון נחשב כפרמטר \n",
    "# num\n",
    "number_appear(1,2,3,1,4,7,1,1)"
   ]
  }
 ],
 "metadata": {
  "kernelspec": {
   "display_name": "Python 3.10.6 64-bit (windows store)",
   "language": "python",
   "name": "python3"
  },
  "language_info": {
   "codemirror_mode": {
    "name": "ipython",
    "version": 3
   },
   "file_extension": ".py",
   "mimetype": "text/x-python",
   "name": "python",
   "nbconvert_exporter": "python",
   "pygments_lexer": "ipython3",
   "version": "3.10.6"
  },
  "orig_nbformat": 4,
  "vscode": {
   "interpreter": {
    "hash": "15fb59555c891fc60f81df082fe823a21084e7ea239769e05b2c588a2ff01567"
   }
  }
 },
 "nbformat": 4,
 "nbformat_minor": 2
}
